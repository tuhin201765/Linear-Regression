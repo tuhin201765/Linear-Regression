{
 "cells": [
  {
   "cell_type": "code",
   "execution_count": 1,
   "id": "61e02b78",
   "metadata": {},
   "outputs": [],
   "source": [
    "import re"
   ]
  },
  {
   "cell_type": "code",
   "execution_count": 2,
   "id": "cd5ee2af",
   "metadata": {},
   "outputs": [],
   "source": [
    "text ='''\n",
    "Born\tElon Reeve Musk\n",
    "June 28, 1971 (age 51)\n",
    "Pretoria, Transvaal, South Africa\n",
    "Education\tUniversity of Pennsylvania (BA, BS)\n",
    "Title\t\n",
    "Founder, CEO and chief engineer of SpaceX\n",
    "CEO and product architect of Tesla, Inc.\n",
    "CEO of Twitter, Inc.\n",
    "President of the Musk Foundation\n",
    "Founder of The Boring Company and X.com (now part of PayPal)\n",
    "Co-founder of Neuralink, OpenAI and Zip2\n",
    "Spouses\t\n",
    "Justine Wilson\n",
    "​\n",
    "​(m. 2000; div. 2008)​\n",
    "Talulah Riley\n",
    "​\n",
    "​(m. 2010; div. 2012)​\n",
    "​\n",
    "​(m. 2013; div. 2016)​\n",
    "Partner\tGrimes (2018–2021)[1]\n",
    "Children\t10[a][3]\n",
    "Parents\t\n",
    "Errol Musk\n",
    "Maye Musk\n",
    "Family\tMusk family\n",
    "Awards\tList of honors and awards\n",
    "'''"
   ]
  },
  {
   "cell_type": "code",
   "execution_count": 37,
   "id": "57ff8d9e",
   "metadata": {},
   "outputs": [
    {
     "data": {
      "text/plain": [
       "'University of Pennsylvania (BA, BS)'"
      ]
     },
     "execution_count": 37,
     "metadata": {},
     "output_type": "execute_result"
    }
   ],
   "source": [
    "Education = 'Education(.*)'\n",
    "matches = re.findall(Education, text)\n",
    "matches[0].strip()"
   ]
  },
  {
   "cell_type": "code",
   "execution_count": 41,
   "id": "8dc8f9b9",
   "metadata": {},
   "outputs": [],
   "source": [
    "def get_patter(pattern , text):\n",
    "    matches = re.findall(pattern, text)\n",
    "    if matches:\n",
    "        return matches[0]"
   ]
  },
  {
   "cell_type": "code",
   "execution_count": 59,
   "id": "9cb4f09f",
   "metadata": {},
   "outputs": [
    {
     "data": {
      "text/plain": [
       "'Founder, CEO and chief engineer of SpaceX'"
      ]
     },
     "execution_count": 59,
     "metadata": {},
     "output_type": "execute_result"
    }
   ],
   "source": [
    "get_patter( 'Title.\\n(.*)',text).strip()"
   ]
  },
  {
   "cell_type": "code",
   "execution_count": 65,
   "id": "197b9408",
   "metadata": {
    "scrolled": true
   },
   "outputs": [],
   "source": [
    "def get_personal(text):\n",
    "    age = get_patter('age (\\d+)',text)\n",
    "    name = get_patter('Born(.*)',text)\n",
    "    birthplace = get_patter('age \\d+.\\n(.*)',text)\n",
    "    education = get_patter( 'Education(.*)',text).strip()\n",
    "    return {\n",
    "        'Age':int(age),\n",
    "        'Born':name.strip(),\n",
    "        'Birthplace':birthplace,\n",
    "        'Education':education\n",
    "    }"
   ]
  },
  {
   "cell_type": "code",
   "execution_count": 66,
   "id": "7fd09171",
   "metadata": {},
   "outputs": [
    {
     "data": {
      "text/plain": [
       "{'Age': 51,\n",
       " 'Born': 'Elon Reeve Musk',\n",
       " 'Birthplace': 'Pretoria, Transvaal, South Africa',\n",
       " 'Education': 'University of Pennsylvania (BA, BS)'}"
      ]
     },
     "execution_count": 66,
     "metadata": {},
     "output_type": "execute_result"
    }
   ],
   "source": [
    "get_personal(text)"
   ]
  },
  {
   "cell_type": "code",
   "execution_count": null,
   "id": "b10205d1",
   "metadata": {},
   "outputs": [],
   "source": []
  }
 ],
 "metadata": {
  "kernelspec": {
   "display_name": "Python 3 (ipykernel)",
   "language": "python",
   "name": "python3"
  },
  "language_info": {
   "codemirror_mode": {
    "name": "ipython",
    "version": 3
   },
   "file_extension": ".py",
   "mimetype": "text/x-python",
   "name": "python",
   "nbconvert_exporter": "python",
   "pygments_lexer": "ipython3",
   "version": "3.9.13"
  }
 },
 "nbformat": 4,
 "nbformat_minor": 5
}
